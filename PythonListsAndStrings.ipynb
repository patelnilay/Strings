{
 "cells": [
  {
   "cell_type": "markdown",
   "metadata": {},
   "source": [
    "# Task 1"
   ]
  },
  {
   "cell_type": "code",
   "execution_count": null,
   "metadata": {},
   "outputs": [],
   "source": [
    "mylist = ['ana', 'ben', 'carli', 'dee', 'elaine', 'fred', 'gustas']\n",
    "\n",
    "[print(mylist[i]) for i in range(len(mylist)) if i % 2 == 0]"
   ]
  },
  {
   "cell_type": "markdown",
   "metadata": {},
   "source": [
    "# Task 2"
   ]
  },
  {
   "cell_type": "code",
   "execution_count": null,
   "metadata": {},
   "outputs": [],
   "source": [
    "import random\n",
    "\n",
    "mylist = ['ana', 'ben', 'carli', 'dee', 'elaine', 'fred', 'gustas']\n",
    "print(random.choice(mylist))"
   ]
  },
  {
   "cell_type": "markdown",
   "metadata": {},
   "source": [
    "# Task 3"
   ]
  },
  {
   "cell_type": "code",
   "execution_count": null,
   "metadata": {},
   "outputs": [],
   "source": [
    "mylist = ['ana', 'ben', 'carli', 'dee', 'elaine', 'fred', 'gustas']\n",
    "mylist[::-1]"
   ]
  },
  {
   "cell_type": "markdown",
   "metadata": {},
   "source": [
    "# Task 4"
   ]
  },
  {
   "cell_type": "code",
   "execution_count": null,
   "metadata": {},
   "outputs": [],
   "source": [
    "mylist = ['ana', 'ben', 'carli', 'dee', 'elaine', 'fred', 'gustas']\n",
    "\n",
    "for i in range(len(mylist)):\n",
    "    print(mylist[i][-1])"
   ]
  },
  {
   "cell_type": "markdown",
   "metadata": {},
   "source": [
    "# chooses random letters from alphabet"
   ]
  },
  {
   "cell_type": "code",
   "execution_count": null,
   "metadata": {},
   "outputs": [],
   "source": [
    "import string\n",
    "import random\n",
    "\n",
    "alpha = list(string.ascii_uppercase)\n",
    "print (random.choice(alpha))"
   ]
  },
  {
   "cell_type": "markdown",
   "metadata": {},
   "source": [
    "# calculate how many times random letter "
   ]
  },
  {
   "cell_type": "code",
   "execution_count": null,
   "metadata": {},
   "outputs": [],
   "source": []
  },
  {
   "cell_type": "code",
   "execution_count": null,
   "metadata": {},
   "outputs": [],
   "source": []
  },
  {
   "cell_type": "code",
   "execution_count": null,
   "metadata": {},
   "outputs": [],
   "source": [
    "word = 'pseudopseudohypoparathyroidism'\n",
    "freq = 0\n",
    "alpha = list(string.ascii_lowercase)\n",
    "rc = random.choice(alpha)\n",
    "for i in word:\n",
    "    if rc == i:\n",
    "        freq += 1\n",
    "\n",
    "if freq == 0:\n",
    "    print(\"there is no letter that matches in the word\",rc+\".\")\n",
    "else:\n",
    "    print(\"alpha\",rc,\"appears\",freq,\"times in the world\",word+\".\")"
   ]
  },
  {
   "cell_type": "markdown",
   "metadata": {},
   "source": [
    "# password strength test"
   ]
  },
  {
   "cell_type": "code",
   "execution_count": null,
   "metadata": {},
   "outputs": [],
   "source": [
    "def strength():\n",
    "    A = \"0123456789\"\n",
    "    while True:\n",
    "        passwd = input(\"Input password here: \")\n",
    "        if len(passwd) < 8:\n",
    "            print (\"password too short, please try again\")\n",
    "        elif all(A.split() not in passwd.split()):\n",
    "            print (\"make sure the password has a number in it\")\n",
    "        elif all(passwd.split() not in passwd.isupper().split()):\n",
    "            print (\"Invalid! please endure there is one UPPERCASE letter\")\n",
    "        else:\n",
    "            print(\"all good! you password is great and strong\")\n",
    "        break\n",
    "strength()\n"
   ]
  },
  {
   "cell_type": "code",
   "execution_count": null,
   "metadata": {},
   "outputs": [],
   "source": [
    "simplePass = \"SimplePass\"\n",
    "strongPass = [\"\"]\n",
    "for i in simplePass:\n",
    "    if  i== \"I\" or \"i\":\n",
    "        strongPass += \"1\"\n",
    "    elif i == \"S\" or \"s\":\n",
    "        strongPass += \"5\"\n",
    "    else:\n",
    "        strongPass += i\n",
    "print(strongPass)"
   ]
  },
  {
   "cell_type": "markdown",
   "metadata": {},
   "source": [
    "# slicing"
   ]
  },
  {
   "cell_type": "code",
   "execution_count": 9,
   "metadata": {},
   "outputs": [
    {
     "name": "stdout",
     "output_type": "stream",
     "text": [
      "['ana', 'ben', 'carli', 'dee', 'elaine', 'fred', 'gustas']\n"
     ]
    }
   ],
   "source": [
    "myList = ['ana', 'ben', 'carli', 'dee', 'elaine', 'fred', 'gustas']\n",
    "\n",
    "print(myList[0:7])"
   ]
  },
  {
   "cell_type": "code",
   "execution_count": null,
   "metadata": {},
   "outputs": [],
   "source": [
    "print(myList[0:len(myList)])"
   ]
  },
  {
   "cell_type": "code",
   "execution_count": null,
   "metadata": {},
   "outputs": [],
   "source": [
    "print(myList[1:5])"
   ]
  },
  {
   "cell_type": "code",
   "execution_count": null,
   "metadata": {},
   "outputs": [],
   "source": [
    "print(myList[:])"
   ]
  },
  {
   "cell_type": "code",
   "execution_count": 13,
   "metadata": {},
   "outputs": [
    {
     "name": "stdout",
     "output_type": "stream",
     "text": [
      "['elaine', 'dee']\n"
     ]
    }
   ],
   "source": [
    "print(myList[4:2:-1])"
   ]
  },
  {
   "cell_type": "code",
   "execution_count": null,
   "metadata": {},
   "outputs": [],
   "source": [
    "print(myList[4:-2])"
   ]
  },
  {
   "cell_type": "code",
   "execution_count": null,
   "metadata": {},
   "outputs": [],
   "source": [
    "print(myList[len(myList):0:-1])"
   ]
  },
  {
   "cell_type": "code",
   "execution_count": null,
   "metadata": {},
   "outputs": [],
   "source": [
    "print(myList[len(myList)::-1])"
   ]
  },
  {
   "cell_type": "markdown",
   "metadata": {},
   "source": [
    "# Slicing lists  - exercise\n"
   ]
  },
  {
   "cell_type": "code",
   "execution_count": 61,
   "metadata": {},
   "outputs": [
    {
     "name": "stdout",
     "output_type": "stream",
     "text": [
      "['herrera', 'ainslie', 'simon', 'defoe', 'williams', 'jones', 'gershwin']\n"
     ]
    }
   ],
   "source": [
    "name =['ana,herrera', 'ben,ainslie', 'carli,simon', 'daniel,defoe', 'elaine,williams', 'fred,jones', 'george,gershwin']\n",
    "firstName = []\n",
    "surName = []\n",
    "\n",
    "for i in range (len(name)):\n",
    "    x,y=name[i].split(',')\n",
    "    firstName.append(x)\n",
    "    surName.append(y)\n",
    "print (surName)"
   ]
  },
  {
   "cell_type": "code",
   "execution_count": 60,
   "metadata": {},
   "outputs": [
    {
     "name": "stdout",
     "output_type": "stream",
     "text": [
      "['ana', 'ben', 'carli', 'daniel', 'elaine', 'fred', 'george']\n"
     ]
    }
   ],
   "source": [
    "for i in range (len(name)):\n",
    "    x,y=name[i].split(',')\n",
    "    firstName.append(x)\n",
    "    surName.append(y)\n",
    "print (firstName)"
   ]
  }
 ],
 "metadata": {
  "kernelspec": {
   "display_name": "Python 3",
   "language": "python",
   "name": "python3"
  },
  "language_info": {
   "codemirror_mode": {
    "name": "ipython",
    "version": 3
   },
   "file_extension": ".py",
   "mimetype": "text/x-python",
   "name": "python",
   "nbconvert_exporter": "python",
   "pygments_lexer": "ipython3",
   "version": "3.5.2"
  }
 },
 "nbformat": 4,
 "nbformat_minor": 2
}
